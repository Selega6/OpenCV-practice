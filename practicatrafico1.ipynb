{
 "cells": [
  {
   "cell_type": "code",
   "execution_count": 1,
   "metadata": {},
   "outputs": [
    {
     "ename": "error",
     "evalue": "OpenCV(4.6.0) D:\\a\\opencv-python\\opencv-python\\opencv\\modules\\imgproc\\src\\smooth.dispatch.cpp:617: error: (-215:Assertion failed) !_src.empty() in function 'cv::GaussianBlur'\n",
     "output_type": "error",
     "traceback": [
      "\u001b[1;31m---------------------------------------------------------------------------\u001b[0m",
      "\u001b[1;31merror\u001b[0m                                     Traceback (most recent call last)",
      "Cell \u001b[1;32mIn [1], line 11\u001b[0m\n\u001b[0;32m      9\u001b[0m \u001b[39mwhile\u001b[39;00m \u001b[39mTrue\u001b[39;00m:\n\u001b[0;32m     10\u001b[0m     _, frame \u001b[39m=\u001b[39m video\u001b[39m.\u001b[39mread()\n\u001b[1;32m---> 11\u001b[0m     frame \u001b[39m=\u001b[39m cv\u001b[39m.\u001b[39;49mGaussianBlur(frame, (\u001b[39m5\u001b[39;49m, \u001b[39m5\u001b[39;49m), \u001b[39m0\u001b[39;49m)\n\u001b[0;32m     12\u001b[0m     \u001b[39m#frame = cv.cvtColor(frame, cv.COLOR_BGR2GRAY)\u001b[39;00m\n\u001b[0;32m     13\u001b[0m     roi \u001b[39m=\u001b[39m frame[\u001b[39m468\u001b[39m:\u001b[39m1080\u001b[39m, \u001b[39m923\u001b[39m:\u001b[39m1920\u001b[39m]\n",
      "\u001b[1;31merror\u001b[0m: OpenCV(4.6.0) D:\\a\\opencv-python\\opencv-python\\opencv\\modules\\imgproc\\src\\smooth.dispatch.cpp:617: error: (-215:Assertion failed) !_src.empty() in function 'cv::GaussianBlur'\n"
     ]
    }
   ],
   "source": [
    "import cv2 as cv\n",
    "import numpy as np\n",
    "   \n",
    "video = cv.VideoCapture('trafico.mp4')\n",
    "bgimage = cv.bgsegm.createBackgroundSubtractorMOG()\n",
    "kernel = cv.getStructuringElement(cv.MORPH_ELLIPSE, (3, 3))\n",
    "carcounter = 0\n",
    "offset = 6\n",
    "while True:\n",
    "    _, frame = video.read()\n",
    "    frame = cv.GaussianBlur(frame, (5, 5), 0)\n",
    "    #frame = cv.cvtColor(frame, cv.COLOR_BGR2GRAY)\n",
    "    roi = frame[468:1080, 923:1920]\n",
    "    roiframe = np.copy(roi)\n",
    "\t# Aplicamos suavizado para eliminar ruido\n",
    "    \n",
    "    fgMask = bgimage.apply(roiframe)\n",
    "    fgMask = cv.morphologyEx(fgMask, cv.MORPH_OPEN, kernel)\n",
    "    fgMask = cv.dilate(fgMask, None, iterations = 4)\n",
    "    contours, _ = cv.findContours(fgMask, cv.RETR_TREE,cv.CHAIN_APPROX_SIMPLE)\n",
    "    img = cv.cvtColor(fgMask, cv.COLOR_GRAY2BGR)\n",
    "    \n",
    "    meta = cv.line(roiframe, (65, 323), (842, 323), (255, 0, 0), 1)\n",
    "    for cnt in contours:\n",
    "    # get the bounding rect\n",
    "        area = cv.contourArea(cnt)\n",
    "        if area > 1900:\n",
    "            x, y, w, h = cv.boundingRect(cnt)\n",
    "            cv.rectangle(roiframe, (x, y), (x+w, y+h), (0, 255, 0), 3)\n",
    "            if (323  - offset)< y < (323 + offset):\n",
    "                carcounter = carcounter+1\n",
    "                meta = cv.line(roiframe, (65, 323), (842, 323), (0, 0, 255), 1)\n",
    "                cv.rectangle(roiframe, (x, y), (x+w, y+h), (255, 0, 255), 3)\n",
    "\n",
    "    cv.putText(frame, \"coches: \"+ str(carcounter), (1200, 250), cv.FONT_HERSHEY_SIMPLEX, 1.2, (0, 255, 255), 3)\n",
    "\n",
    "    frame[468:1080, 923:1920] = roiframe\n",
    "    fgMask = cv.resize(fgMask, (320, 180))\n",
    "    frame = cv.resize(frame, (1600, 900))\n",
    "    cv.imshow('frame', frame)\n",
    "    cv.imshow('mask', fgMask) #coches en movimiento detectados\n",
    "    cv.imshow('roi', roiframe)\n",
    "    k = cv.waitKey(3) & 0xFF\n",
    "    if k == 27:\n",
    "        break\n",
    " \n",
    "cv.destroyAllWindows()"
   ]
  },
  {
   "attachments": {},
   "cell_type": "markdown",
   "metadata": {},
   "source": [
    "Imagen del fondo:"
   ]
  },
  {
   "cell_type": "code",
   "execution_count": 9,
   "metadata": {},
   "outputs": [
    {
     "data": {
      "text/plain": [
       "-1"
      ]
     },
     "execution_count": 9,
     "metadata": {},
     "output_type": "execute_result"
    }
   ],
   "source": [
    "import cv2\n",
    "import numpy as np\n",
    "\n",
    "file_path = 'trafico.mp4'\n",
    "cap = cv2.VideoCapture(file_path)\n",
    "first_iter = True\n",
    "result1 = None\n",
    "while True:\n",
    "    ret, frame = cap.read()\n",
    "    if frame is None:\n",
    "        break\n",
    "    if first_iter:\n",
    "       avg = np.float32(frame)\n",
    "       first_iter = False\n",
    "    cv2.accumulateWeighted(frame, avg, 0.005)\n",
    "    result1 = cv2.convertScaleAbs(avg)\n",
    "    cv2.imwrite('traficobackground.jpg', result1)\n",
    "\n",
    "cv2.imshow(\"background\", result1)\n",
    "cv2.waitKey(0)"
   ]
  }
 ],
 "metadata": {
  "kernelspec": {
   "display_name": "Python 3.11.0 64-bit",
   "language": "python",
   "name": "python3"
  },
  "language_info": {
   "codemirror_mode": {
    "name": "ipython",
    "version": 3
   },
   "file_extension": ".py",
   "mimetype": "text/x-python",
   "name": "python",
   "nbconvert_exporter": "python",
   "pygments_lexer": "ipython3",
   "version": "3.11.0"
  },
  "orig_nbformat": 4,
  "vscode": {
   "interpreter": {
    "hash": "e6662bb9cd0c16ab8e97182558abc9545b6094249a2ea985f3ceab1cb3664bbf"
   }
  }
 },
 "nbformat": 4,
 "nbformat_minor": 2
}
